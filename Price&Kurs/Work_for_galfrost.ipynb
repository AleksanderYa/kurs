{
 "cells": [
  {
   "cell_type": "markdown",
   "metadata": {},
   "source": [
    "# Рабочая версия"
   ]
  },
  {
   "cell_type": "code",
   "execution_count": 11,
   "metadata": {},
   "outputs": [
    {
     "data": {
      "text/plain": [
       "\"Live as long as you can and then we'll see. God\""
      ]
     },
     "execution_count": 11,
     "metadata": {},
     "output_type": "execute_result"
    }
   ],
   "source": [
    "from googletrans import Translator\n",
    "translator = Translator()\n",
    "# import asyncio \n",
    " \n",
    "\n",
    "\n",
    "\n",
    "b = translator.translate('Живи пока можно а дальше будет видно. Бог', dest='en', src='ru')\n",
    "\n",
    "b.text\n"
   ]
  },
  {
   "cell_type": "markdown",
   "metadata": {},
   "source": [
    "\n",
    "# Тесты\n"
   ]
  },
  {
   "cell_type": "code",
   "execution_count": 3,
   "metadata": {},
   "outputs": [
    {
     "name": "stdout",
     "output_type": "stream",
     "text": [
      "2020-11-20 \n"
     ]
    },
    {
     "data": {
      "text/plain": [
       "'20.11.20'"
      ]
     },
     "execution_count": 3,
     "metadata": {},
     "output_type": "execute_result"
    }
   ],
   "source": [
    "from datetime import datetime as dt\n",
    "from datetime import date\n",
    "\n",
    "\n",
    "translator = Translator()\n",
    "da = str(dt.today())\n",
    "print(da[:11])\n",
    "\n",
    "\n",
    "dates = date.today()\n",
    "dates.strftime(\"%d.%m.%y\")"
   ]
  },
  {
   "cell_type": "code",
   "execution_count": 149,
   "metadata": {},
   "outputs": [
    {
     "name": "stdout",
     "output_type": "stream",
     "text": [
      "2020-11-20 \n"
     ]
    }
   ],
   "source": [
    "import openpyxl\n",
    "from datetime import date, datetime \n",
    "from googletrans import Translator\n",
    "\n",
    "\n",
    "# Запись в дату текушую дату в формате 2020-11-08 \n",
    "data = str(datetime.today())\n",
    "print(data[:11])\n",
    "# Загружаем рабочий ексельфайл\n",
    "wb = openpyxl.load_workbook(filename = 'frozen.xlsx')\n",
    "# Загружаем рабочий лист\n",
    "sheet = wb['Sheet1']\n",
    "sheet_2 = wb.worksheets[1]\n",
    "\n",
    "\n",
    "\n",
    "def trans(text):\n",
    "    b = translator.translate(text, dest='ru', src='en')\n",
    "    return b.text\n",
    "\n",
    "\n",
    "def write(ryad , col, value, ws=sheet_2):\n",
    "    try:\n",
    "        ws.cell(ryad , col).value = value\n",
    "        wb.save('frozen.xlsx')\n",
    "        return print([ws.cell(ryad , col).value,'ok'])\n",
    "    except Exception as e:\n",
    "        print(e)\n",
    "\n",
    "\n",
    "\n",
    "#------Функция читает содержимое ячейки из листа \"sheet_kurs\" по существующим  рядкам--------------- \n",
    "base = {}\n",
    "\n",
    "def read_kurs(sheet=sheet, base=base):\n",
    "    name = ''\n",
    "    datt = ''\n",
    "    inc = ''\n",
    "    # Итерируемся из списка мин до макс кол рядков  \n",
    "    for i in range(sheet.min_row, sheet.max_row + 1):\n",
    "        # значение ячейки\n",
    "        value = sheet.cell(i , 1).value\n",
    "        value_2 = str(sheet.cell(i , 2).value)\n",
    "        value = str(value)\n",
    "        if value != 'None':\n",
    "            if value_2 not in base.keys():\n",
    "                base[value_2] = []\n",
    "                name = value_2\n",
    "                datt = sheet.cell(i , 1).value\n",
    "                inc = sheet.cell(i , 3).value\n",
    "            else:\n",
    "                name = value_2\n",
    "                datt = sheet.cell(i , 1).value\n",
    "                inc = sheet.cell(i , 3).value\n",
    "            print('name is {0}'.format(name))\n",
    "        else:\n",
    "            try:\n",
    "                print(base[name])\n",
    "                a = base[name]\n",
    "                a.append(value_2)\n",
    "                write(i, 2, name)  #  Постачальник\n",
    "                write(i, 3, value_2 + trans(value_2)) # Product /  Продукт\n",
    "                write(i, 1, datt) # Дата\n",
    "                write(i, 4, inc) # \n",
    "                write(i, 5, sheet.cell(i , 4).value) #\n",
    "                write(i, 6, sheet.cell(i , 5).value) #\n",
    "                write(i, 7, sheet.cell(i , 6).value) #\n",
    "                write(i, 8, sheet.cell(i , 7).value) #\n",
    "                write(i, 9, sheet.cell(i , 8).value) #\n",
    "            except Exception as e:\n",
    "                print(e)\n",
    "#         print(value)\n",
    "        \n"
   ]
  },
  {
   "cell_type": "code",
   "execution_count": 12,
   "metadata": {},
   "outputs": [],
   "source": [
    "# read_kurs()"
   ]
  },
  {
   "cell_type": "code",
   "execution_count": 37,
   "metadata": {},
   "outputs": [],
   "source": [
    "import openpyxl\n",
    "from datetime import date, datetime \n",
    "\n",
    "\n",
    "def Price1(func):\n",
    "    def wrapper(*arg):\n",
    "        wb = openpyxl.load_workbook(filename = 'test.xlsx')\n",
    "        sheet = wb['Price1']\n",
    "        func(*arg)\n",
    "        wb.save('test.xlsx')\n",
    "        return sheet\n",
    "    return wrapper\n",
    "\n",
    "@Price1\n",
    "def writen(ryad , col, value):\n",
    "    try:\n",
    "        sheet.cell(ryad , col).value = value\n",
    "        return print([ws.cell(ryad , col).value,'ok'])\n",
    "    except Exception as e:\n",
    "        print(e)\n",
    "\n"
   ]
  },
  {
   "cell_type": "code",
   "execution_count": 38,
   "metadata": {
    "scrolled": true
   },
   "outputs": [
    {
     "name": "stdout",
     "output_type": "stream",
     "text": [
      "name 'sheet' is not defined\n"
     ]
    },
    {
     "data": {
      "text/plain": [
       "<Worksheet \"Price1\">"
      ]
     },
     "execution_count": 38,
     "metadata": {},
     "output_type": "execute_result"
    }
   ],
   "source": [
    "writen(5, 5, 'yes')"
   ]
  },
  {
   "cell_type": "code",
   "execution_count": 22,
   "metadata": {},
   "outputs": [
    {
     "name": "stdout",
     "output_type": "stream",
     "text": [
      "['2']\n"
     ]
    }
   ],
   "source": [
    " "
   ]
  },
  {
   "cell_type": "code",
   "execution_count": 94,
   "metadata": {},
   "outputs": [
    {
     "name": "stdout",
     "output_type": "stream",
     "text": [
      "78.516\n"
     ]
    }
   ],
   "source": [
    " "
   ]
  },
  {
   "cell_type": "code",
   "execution_count": null,
   "metadata": {},
   "outputs": [],
   "source": [
    " "
   ]
  }
 ],
 "metadata": {
  "kernelspec": {
   "display_name": "Python 3",
   "language": "python",
   "name": "python3"
  },
  "language_info": {
   "codemirror_mode": {
    "name": "ipython",
    "version": 3
   },
   "file_extension": ".py",
   "mimetype": "text/x-python",
   "name": "python",
   "nbconvert_exporter": "python",
   "pygments_lexer": "ipython3",
   "version": "3.6.5"
  }
 },
 "nbformat": 4,
 "nbformat_minor": 4
}
